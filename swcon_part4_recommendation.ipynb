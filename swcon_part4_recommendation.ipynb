{
 "cells": [
  {
   "cell_type": "code",
   "execution_count": 59,
   "id": "ea476d44",
   "metadata": {
    "ExecuteTime": {
     "end_time": "2025-06-09T12:52:35.963304Z",
     "start_time": "2025-06-09T12:52:35.665099Z"
    }
   },
   "outputs": [],
   "source": [
    "import numpy as np\n",
    "import pandas as pd\n",
    "import matplotlib.pyplot as plt"
   ]
  },
  {
   "cell_type": "code",
   "execution_count": 4,
   "id": "7b2dd6cd",
   "metadata": {
    "ExecuteTime": {
     "end_time": "2025-06-09T11:55:08.300927Z",
     "start_time": "2025-06-09T11:55:08.296311Z"
    }
   },
   "outputs": [],
   "source": [
    "df=pd.read_csv('prediction_kakao_20_gephi.csv', encoding='utf-8-sig')"
   ]
  },
  {
   "cell_type": "code",
   "execution_count": 7,
   "id": "a5921c09",
   "metadata": {
    "ExecuteTime": {
     "end_time": "2025-06-09T11:57:09.803582Z",
     "start_time": "2025-06-09T11:57:09.800315Z"
    }
   },
   "outputs": [],
   "source": [
    "candidate=df['Target'].unique().tolist()"
   ]
  },
  {
   "cell_type": "code",
   "execution_count": 19,
   "id": "b6383b94",
   "metadata": {
    "ExecuteTime": {
     "end_time": "2025-06-09T12:23:25.304592Z",
     "start_time": "2025-06-09T12:23:25.289256Z"
    }
   },
   "outputs": [],
   "source": [
    "ipc_df = pd.read_csv('ipc_description_2024ver_maingroup_p.csv', encoding='utf-8-sig')\n",
    "filtered_df = ipc_df[ipc_df['maingroup'].isin(candidate)]"
   ]
  },
  {
   "cell_type": "code",
   "execution_count": 44,
   "id": "59459836",
   "metadata": {
    "ExecuteTime": {
     "end_time": "2025-06-09T12:36:43.467036Z",
     "start_time": "2025-06-09T12:36:39.797785Z"
    }
   },
   "outputs": [
    {
     "data": {
      "application/vnd.jupyter.widget-view+json": {
       "model_id": "f9e958af4ac142c4b805712271958b13",
       "version_major": 2,
       "version_minor": 0
      },
      "text/plain": [
       "Batches:   0%|          | 0/2 [00:00<?, ?it/s]"
      ]
     },
     "metadata": {},
     "output_type": "display_data"
    }
   ],
   "source": [
    "from sentence_transformers import SentenceTransformer\n",
    "\n",
    "model = SentenceTransformer('sentence-transformers/paraphrase-MiniLM-L6-v2')\n",
    "embeddings = model.encode(filtered_df['description'].tolist(), show_progress_bar=True)"
   ]
  },
  {
   "cell_type": "code",
   "execution_count": 45,
   "id": "82a134d6",
   "metadata": {
    "ExecuteTime": {
     "end_time": "2025-06-09T12:36:45.589689Z",
     "start_time": "2025-06-09T12:36:45.585553Z"
    }
   },
   "outputs": [
    {
     "data": {
      "text/plain": [
       "array([[-0.37070212,  0.0264958 ,  0.16480121, ..., -0.05039575,\n",
       "         0.19101258,  0.21691853],\n",
       "       [-0.32793057, -0.08176885,  0.00440707, ...,  0.12643442,\n",
       "        -0.49639073,  0.02890111],\n",
       "       [-0.05398826, -0.23255098, -0.44281876, ...,  0.44541833,\n",
       "         0.19171686,  0.03639613],\n",
       "       ...,\n",
       "       [-0.4187886 ,  0.09806563, -0.5025592 , ..., -0.56162465,\n",
       "         0.08410331,  0.02306766],\n",
       "       [-0.35904855, -0.4868346 , -0.04290102, ...,  0.06422301,\n",
       "        -0.132256  , -0.2168928 ],\n",
       "       [-0.11502842, -0.24724449,  0.15453793, ...,  0.29316142,\n",
       "         0.2348146 , -0.05825179]], dtype=float32)"
      ]
     },
     "execution_count": 45,
     "metadata": {},
     "output_type": "execute_result"
    }
   ],
   "source": [
    "embeddings"
   ]
  },
  {
   "cell_type": "code",
   "execution_count": 31,
   "id": "46c8d9d3",
   "metadata": {
    "ExecuteTime": {
     "end_time": "2025-06-09T12:33:20.568763Z",
     "start_time": "2025-06-09T12:33:20.233555Z"
    }
   },
   "outputs": [],
   "source": [
    "df = pd.read_csv('AI_patent_all.csv', encoding='utf-8-sig')  # 필요 시 encoding 변경\n",
    "\n",
    "# 2. KakaoBank Corp.에 해당하는 특허 필터링\n",
    "kakao_df = df[df['assignee'] == 'KakaoBank Corp.']\n",
    "\n",
    "# 3. title과 abstract 컬럼만 추출\n",
    "kakao_text_df = kakao_df[['title', 'abs']]\n",
    "\n",
    "texts = (kakao_text_df['title'] + \" \" + kakao_text_df['abs']).tolist()"
   ]
  },
  {
   "cell_type": "code",
   "execution_count": 47,
   "id": "a95328c7",
   "metadata": {
    "ExecuteTime": {
     "end_time": "2025-06-09T12:37:10.740338Z",
     "start_time": "2025-06-09T12:37:10.681450Z"
    }
   },
   "outputs": [
    {
     "data": {
      "application/vnd.jupyter.widget-view+json": {
       "model_id": "dd9ea2bf7289471699c1c4542f9fb379",
       "version_major": 2,
       "version_minor": 0
      },
      "text/plain": [
       "Batches:   0%|          | 0/1 [00:00<?, ?it/s]"
      ]
     },
     "metadata": {},
     "output_type": "display_data"
    }
   ],
   "source": [
    "kakao_embeddings = model.encode(texts, show_progress_bar=True)  # shape: (5, 384)\n",
    "\n",
    "# 4. 평균 벡터 계산\n",
    "kakao_mean_embedding = np.mean(kakao_embeddings, axis=0)  # shape: (384,)"
   ]
  },
  {
   "cell_type": "code",
   "execution_count": 49,
   "id": "6cd7e79e",
   "metadata": {
    "ExecuteTime": {
     "end_time": "2025-06-09T12:38:24.875493Z",
     "start_time": "2025-06-09T12:38:24.866260Z"
    }
   },
   "outputs": [
    {
     "name": "stdout",
     "output_type": "stream",
     "text": [
      "     maingroup  similarity_with_kakao\n",
      "6419   G01R031               0.083659\n",
      "6606   G05B013               0.122878\n",
      "6609   G05B019               0.118580\n",
      "6611   G05B023               0.192322\n",
      "6614   G05D001               0.081111\n"
     ]
    },
    {
     "name": "stderr",
     "output_type": "stream",
     "text": [
      "C:\\Users\\user\\AppData\\Local\\Temp\\ipykernel_17672\\325735652.py:10: SettingWithCopyWarning: \n",
      "A value is trying to be set on a copy of a slice from a DataFrame.\n",
      "Try using .loc[row_indexer,col_indexer] = value instead\n",
      "\n",
      "See the caveats in the documentation: https://pandas.pydata.org/pandas-docs/stable/user_guide/indexing.html#returning-a-view-versus-a-copy\n",
      "  filtered_df['similarity_with_kakao'] = similarities\n"
     ]
    }
   ],
   "source": [
    "from sklearn.metrics.pairwise import cosine_similarity\n",
    "\n",
    "# 1. 유사도 계산: 각 IPC (51개)와 Kakao 평균 임베딩 간 cosine similarity\n",
    "similarities = cosine_similarity(embeddings, kakao_mean_embedding.reshape(1, -1))  # 결과: (51, 1)\n",
    "\n",
    "# 2. 평탄화\n",
    "similarities = similarities.squeeze()  # shape: (51,)\n",
    "\n",
    "# 3. filtered_df에 추가\n",
    "filtered_df['similarity_with_kakao'] = similarities\n",
    "\n",
    "# 4. 확인\n",
    "print(filtered_df[['maingroup', 'similarity_with_kakao']].head())"
   ]
  },
  {
   "cell_type": "code",
   "execution_count": 50,
   "id": "5f5e2a3a",
   "metadata": {
    "ExecuteTime": {
     "end_time": "2025-06-09T12:38:29.536701Z",
     "start_time": "2025-06-09T12:38:29.529787Z"
    }
   },
   "outputs": [
    {
     "data": {
      "text/html": [
       "<div>\n",
       "<style scoped>\n",
       "    .dataframe tbody tr th:only-of-type {\n",
       "        vertical-align: middle;\n",
       "    }\n",
       "\n",
       "    .dataframe tbody tr th {\n",
       "        vertical-align: top;\n",
       "    }\n",
       "\n",
       "    .dataframe thead th {\n",
       "        text-align: right;\n",
       "    }\n",
       "</style>\n",
       "<table border=\"1\" class=\"dataframe\">\n",
       "  <thead>\n",
       "    <tr style=\"text-align: right;\">\n",
       "      <th></th>\n",
       "      <th>maingroup</th>\n",
       "      <th>description</th>\n",
       "      <th>similarity_with_kakao</th>\n",
       "    </tr>\n",
       "  </thead>\n",
       "  <tbody>\n",
       "    <tr>\n",
       "      <th>6419</th>\n",
       "      <td>G01R031</td>\n",
       "      <td>Arrangements for testing electric properties; ...</td>\n",
       "      <td>0.083659</td>\n",
       "    </tr>\n",
       "    <tr>\n",
       "      <th>6606</th>\n",
       "      <td>G05B013</td>\n",
       "      <td>Adaptive control systems, i.e. systems automat...</td>\n",
       "      <td>0.122878</td>\n",
       "    </tr>\n",
       "    <tr>\n",
       "      <th>6609</th>\n",
       "      <td>G05B019</td>\n",
       "      <td>Programme-control systems</td>\n",
       "      <td>0.118580</td>\n",
       "    </tr>\n",
       "    <tr>\n",
       "      <th>6611</th>\n",
       "      <td>G05B023</td>\n",
       "      <td>Testing or monitoring of control systems or pa...</td>\n",
       "      <td>0.192322</td>\n",
       "    </tr>\n",
       "    <tr>\n",
       "      <th>6614</th>\n",
       "      <td>G05D001</td>\n",
       "      <td>Control of position, course, altitude or attit...</td>\n",
       "      <td>0.081111</td>\n",
       "    </tr>\n",
       "    <tr>\n",
       "      <th>6678</th>\n",
       "      <td>G06F003</td>\n",
       "      <td>Input arrangements for transferring data to be...</td>\n",
       "      <td>0.228655</td>\n",
       "    </tr>\n",
       "    <tr>\n",
       "      <th>6682</th>\n",
       "      <td>G06F009</td>\n",
       "      <td>Arrangements for program control, e.g. control...</td>\n",
       "      <td>0.132682</td>\n",
       "    </tr>\n",
       "    <tr>\n",
       "      <th>6683</th>\n",
       "      <td>G06F011</td>\n",
       "      <td>Error detection; Error correction; Monitoring ...</td>\n",
       "      <td>0.291064</td>\n",
       "    </tr>\n",
       "    <tr>\n",
       "      <th>6687</th>\n",
       "      <td>G06F016</td>\n",
       "      <td>Information retrieval; Database structures the...</td>\n",
       "      <td>0.257743</td>\n",
       "    </tr>\n",
       "    <tr>\n",
       "      <th>6688</th>\n",
       "      <td>G06F017</td>\n",
       "      <td>Digital computing or data processing equipment...</td>\n",
       "      <td>0.371313</td>\n",
       "    </tr>\n",
       "    <tr>\n",
       "      <th>6689</th>\n",
       "      <td>G06F018</td>\n",
       "      <td>Pattern recognition</td>\n",
       "      <td>0.424790</td>\n",
       "    </tr>\n",
       "    <tr>\n",
       "      <th>6690</th>\n",
       "      <td>G06F021</td>\n",
       "      <td>Security arrangements for protecting computers...</td>\n",
       "      <td>0.276047</td>\n",
       "    </tr>\n",
       "    <tr>\n",
       "      <th>6710</th>\n",
       "      <td>G06K009</td>\n",
       "      <td>Methods or arrangements for reading or recogni...</td>\n",
       "      <td>0.381319</td>\n",
       "    </tr>\n",
       "    <tr>\n",
       "      <th>6724</th>\n",
       "      <td>G06N005</td>\n",
       "      <td>Computing arrangements using knowledge-based m...</td>\n",
       "      <td>0.324019</td>\n",
       "    </tr>\n",
       "    <tr>\n",
       "      <th>6727</th>\n",
       "      <td>G06N020</td>\n",
       "      <td>Machine learning</td>\n",
       "      <td>0.457011</td>\n",
       "    </tr>\n",
       "    <tr>\n",
       "      <th>6729</th>\n",
       "      <td>G06Q010</td>\n",
       "      <td>Administration; Management</td>\n",
       "      <td>0.003854</td>\n",
       "    </tr>\n",
       "    <tr>\n",
       "      <th>6731</th>\n",
       "      <td>G06Q030</td>\n",
       "      <td>Commerce</td>\n",
       "      <td>0.098612</td>\n",
       "    </tr>\n",
       "    <tr>\n",
       "      <th>6732</th>\n",
       "      <td>G06Q040</td>\n",
       "      <td>Finance; Insurance; Tax strategies; Processing...</td>\n",
       "      <td>0.035502</td>\n",
       "    </tr>\n",
       "    <tr>\n",
       "      <th>6733</th>\n",
       "      <td>G06Q050</td>\n",
       "      <td>Information and communication technology [ICT]...</td>\n",
       "      <td>0.192543</td>\n",
       "    </tr>\n",
       "    <tr>\n",
       "      <th>6737</th>\n",
       "      <td>G06T003</td>\n",
       "      <td>Geometric image transformations in the plane o...</td>\n",
       "      <td>0.135358</td>\n",
       "    </tr>\n",
       "    <tr>\n",
       "      <th>6741</th>\n",
       "      <td>G06T011</td>\n",
       "      <td>2D [Two Dimensional] image generation</td>\n",
       "      <td>0.265538</td>\n",
       "    </tr>\n",
       "    <tr>\n",
       "      <th>6743</th>\n",
       "      <td>G06T015</td>\n",
       "      <td>3D [Three Dimensional] image rendering</td>\n",
       "      <td>0.183644</td>\n",
       "    </tr>\n",
       "    <tr>\n",
       "      <th>6745</th>\n",
       "      <td>G06T019</td>\n",
       "      <td>Manipulating 3D models or images for computer ...</td>\n",
       "      <td>0.268257</td>\n",
       "    </tr>\n",
       "    <tr>\n",
       "      <th>6747</th>\n",
       "      <td>G06V020</td>\n",
       "      <td>Scenes; Scene-specific elements (control of di...</td>\n",
       "      <td>0.088369</td>\n",
       "    </tr>\n",
       "    <tr>\n",
       "      <th>6749</th>\n",
       "      <td>G06V040</td>\n",
       "      <td>Recognition of biometric, human-related or ani...</td>\n",
       "      <td>0.420031</td>\n",
       "    </tr>\n",
       "    <tr>\n",
       "      <th>6825</th>\n",
       "      <td>G09B019</td>\n",
       "      <td>Teaching not covered by other main groups of t...</td>\n",
       "      <td>0.033530</td>\n",
       "    </tr>\n",
       "    <tr>\n",
       "      <th>6887</th>\n",
       "      <td>G10L013</td>\n",
       "      <td>Speech synthesis; Text to speech systems</td>\n",
       "      <td>0.207035</td>\n",
       "    </tr>\n",
       "    <tr>\n",
       "      <th>6888</th>\n",
       "      <td>G10L015</td>\n",
       "      <td>Speech recognition (G10L17/00 takes precedence)</td>\n",
       "      <td>0.347401</td>\n",
       "    </tr>\n",
       "    <tr>\n",
       "      <th>6892</th>\n",
       "      <td>G10L025</td>\n",
       "      <td>Speech or voice analysis techniques not restri...</td>\n",
       "      <td>0.316214</td>\n",
       "    </tr>\n",
       "    <tr>\n",
       "      <th>6907</th>\n",
       "      <td>G11B027</td>\n",
       "      <td>Editing; Indexing; Addressing; Timing or synch...</td>\n",
       "      <td>0.122110</td>\n",
       "    </tr>\n",
       "    <tr>\n",
       "      <th>6950</th>\n",
       "      <td>G16H010</td>\n",
       "      <td>ICT specially adapted for the handling or proc...</td>\n",
       "      <td>0.218101</td>\n",
       "    </tr>\n",
       "    <tr>\n",
       "      <th>6952</th>\n",
       "      <td>G16H020</td>\n",
       "      <td>ICT specially adapted for therapies or health-...</td>\n",
       "      <td>0.108850</td>\n",
       "    </tr>\n",
       "    <tr>\n",
       "      <th>6954</th>\n",
       "      <td>G16H040</td>\n",
       "      <td>ICT specially adapted for the management or ad...</td>\n",
       "      <td>0.094845</td>\n",
       "    </tr>\n",
       "    <tr>\n",
       "      <th>6955</th>\n",
       "      <td>G16H050</td>\n",
       "      <td>ICT specially adapted for medical diagnosis, m...</td>\n",
       "      <td>0.299581</td>\n",
       "    </tr>\n",
       "    <tr>\n",
       "      <th>7230</th>\n",
       "      <td>H02J007</td>\n",
       "      <td>Circuit arrangements for charging or depolaris...</td>\n",
       "      <td>0.080198</td>\n",
       "    </tr>\n",
       "    <tr>\n",
       "      <th>7396</th>\n",
       "      <td>H03M013</td>\n",
       "      <td>Coding, decoding or code conversion, for error...</td>\n",
       "      <td>0.359846</td>\n",
       "    </tr>\n",
       "    <tr>\n",
       "      <th>7425</th>\n",
       "      <td>H04L009</td>\n",
       "      <td>Arrangements for secret or secure communicatio...</td>\n",
       "      <td>0.221618</td>\n",
       "    </tr>\n",
       "    <tr>\n",
       "      <th>7426</th>\n",
       "      <td>H04L012</td>\n",
       "      <td>Data switching networks (interconnection of, o...</td>\n",
       "      <td>0.290943</td>\n",
       "    </tr>\n",
       "    <tr>\n",
       "      <th>7435</th>\n",
       "      <td>H04L029</td>\n",
       "      <td>Arrangements, apparatus, circuits or systems, ...</td>\n",
       "      <td>0.171164</td>\n",
       "    </tr>\n",
       "    <tr>\n",
       "      <th>7444</th>\n",
       "      <td>H04L067</td>\n",
       "      <td>Network arrangements or protocols for supporti...</td>\n",
       "      <td>0.115704</td>\n",
       "    </tr>\n",
       "    <tr>\n",
       "      <th>7460</th>\n",
       "      <td>H04N005</td>\n",
       "      <td>Details of television systems (scanning detail...</td>\n",
       "      <td>0.134129</td>\n",
       "    </tr>\n",
       "    <tr>\n",
       "      <th>7461</th>\n",
       "      <td>H04N007</td>\n",
       "      <td>Television systems (details H04N3/00, H04N5/00...</td>\n",
       "      <td>0.212094</td>\n",
       "    </tr>\n",
       "    <tr>\n",
       "      <th>7466</th>\n",
       "      <td>H04N019</td>\n",
       "      <td>Methods or arrangements for coding, decoding, ...</td>\n",
       "      <td>0.342514</td>\n",
       "    </tr>\n",
       "    <tr>\n",
       "      <th>7467</th>\n",
       "      <td>H04N021</td>\n",
       "      <td>Selective content distribution, e.g. interacti...</td>\n",
       "      <td>0.151018</td>\n",
       "    </tr>\n",
       "    <tr>\n",
       "      <th>7468</th>\n",
       "      <td>H04N023</td>\n",
       "      <td>Cameras or camera modules comprising electroni...</td>\n",
       "      <td>0.181247</td>\n",
       "    </tr>\n",
       "    <tr>\n",
       "      <th>7476</th>\n",
       "      <td>H04R001</td>\n",
       "      <td>Details of transducers (diaphragms H04R7/00; c...</td>\n",
       "      <td>0.045987</td>\n",
       "    </tr>\n",
       "    <tr>\n",
       "      <th>7477</th>\n",
       "      <td>H04R003</td>\n",
       "      <td>Circuits for transducers (arrangements for pro...</td>\n",
       "      <td>0.057541</td>\n",
       "    </tr>\n",
       "    <tr>\n",
       "      <th>7496</th>\n",
       "      <td>H04W004</td>\n",
       "      <td>Services specially adapted for wireless commun...</td>\n",
       "      <td>0.068492</td>\n",
       "    </tr>\n",
       "    <tr>\n",
       "      <th>7498</th>\n",
       "      <td>H04W012</td>\n",
       "      <td>Security arrangements; Authentication; Protect...</td>\n",
       "      <td>0.201484</td>\n",
       "    </tr>\n",
       "    <tr>\n",
       "      <th>7514</th>\n",
       "      <td>H04W084</td>\n",
       "      <td>Network topologies</td>\n",
       "      <td>0.203029</td>\n",
       "    </tr>\n",
       "    <tr>\n",
       "      <th>7531</th>\n",
       "      <td>H05B047</td>\n",
       "      <td>Circuit arrangements for operating light sourc...</td>\n",
       "      <td>0.080063</td>\n",
       "    </tr>\n",
       "  </tbody>\n",
       "</table>\n",
       "</div>"
      ],
      "text/plain": [
       "     maingroup                                        description  \\\n",
       "6419   G01R031  Arrangements for testing electric properties; ...   \n",
       "6606   G05B013  Adaptive control systems, i.e. systems automat...   \n",
       "6609   G05B019                         Programme-control systems    \n",
       "6611   G05B023  Testing or monitoring of control systems or pa...   \n",
       "6614   G05D001  Control of position, course, altitude or attit...   \n",
       "6678   G06F003  Input arrangements for transferring data to be...   \n",
       "6682   G06F009  Arrangements for program control, e.g. control...   \n",
       "6683   G06F011  Error detection; Error correction; Monitoring ...   \n",
       "6687   G06F016  Information retrieval; Database structures the...   \n",
       "6688   G06F017  Digital computing or data processing equipment...   \n",
       "6689   G06F018                                Pattern recognition   \n",
       "6690   G06F021  Security arrangements for protecting computers...   \n",
       "6710   G06K009  Methods or arrangements for reading or recogni...   \n",
       "6724   G06N005  Computing arrangements using knowledge-based m...   \n",
       "6727   G06N020                                   Machine learning   \n",
       "6729   G06Q010                         Administration; Management   \n",
       "6731   G06Q030                                           Commerce   \n",
       "6732   G06Q040  Finance; Insurance; Tax strategies; Processing...   \n",
       "6733   G06Q050  Information and communication technology [ICT]...   \n",
       "6737   G06T003  Geometric image transformations in the plane o...   \n",
       "6741   G06T011              2D [Two Dimensional] image generation   \n",
       "6743   G06T015             3D [Three Dimensional] image rendering   \n",
       "6745   G06T019  Manipulating 3D models or images for computer ...   \n",
       "6747   G06V020  Scenes; Scene-specific elements (control of di...   \n",
       "6749   G06V040  Recognition of biometric, human-related or ani...   \n",
       "6825   G09B019  Teaching not covered by other main groups of t...   \n",
       "6887   G10L013           Speech synthesis; Text to speech systems   \n",
       "6888   G10L015   Speech recognition (G10L17/00 takes precedence)    \n",
       "6892   G10L025  Speech or voice analysis techniques not restri...   \n",
       "6907   G11B027  Editing; Indexing; Addressing; Timing or synch...   \n",
       "6950   G16H010  ICT specially adapted for the handling or proc...   \n",
       "6952   G16H020  ICT specially adapted for therapies or health-...   \n",
       "6954   G16H040  ICT specially adapted for the management or ad...   \n",
       "6955   G16H050  ICT specially adapted for medical diagnosis, m...   \n",
       "7230   H02J007  Circuit arrangements for charging or depolaris...   \n",
       "7396   H03M013  Coding, decoding or code conversion, for error...   \n",
       "7425   H04L009  Arrangements for secret or secure communicatio...   \n",
       "7426   H04L012  Data switching networks (interconnection of, o...   \n",
       "7435   H04L029  Arrangements, apparatus, circuits or systems, ...   \n",
       "7444   H04L067  Network arrangements or protocols for supporti...   \n",
       "7460   H04N005  Details of television systems (scanning detail...   \n",
       "7461   H04N007  Television systems (details H04N3/00, H04N5/00...   \n",
       "7466   H04N019  Methods or arrangements for coding, decoding, ...   \n",
       "7467   H04N021  Selective content distribution, e.g. interacti...   \n",
       "7468   H04N023  Cameras or camera modules comprising electroni...   \n",
       "7476   H04R001  Details of transducers (diaphragms H04R7/00; c...   \n",
       "7477   H04R003  Circuits for transducers (arrangements for pro...   \n",
       "7496   H04W004  Services specially adapted for wireless commun...   \n",
       "7498   H04W012  Security arrangements; Authentication; Protect...   \n",
       "7514   H04W084                                 Network topologies   \n",
       "7531   H05B047  Circuit arrangements for operating light sourc...   \n",
       "\n",
       "      similarity_with_kakao  \n",
       "6419               0.083659  \n",
       "6606               0.122878  \n",
       "6609               0.118580  \n",
       "6611               0.192322  \n",
       "6614               0.081111  \n",
       "6678               0.228655  \n",
       "6682               0.132682  \n",
       "6683               0.291064  \n",
       "6687               0.257743  \n",
       "6688               0.371313  \n",
       "6689               0.424790  \n",
       "6690               0.276047  \n",
       "6710               0.381319  \n",
       "6724               0.324019  \n",
       "6727               0.457011  \n",
       "6729               0.003854  \n",
       "6731               0.098612  \n",
       "6732               0.035502  \n",
       "6733               0.192543  \n",
       "6737               0.135358  \n",
       "6741               0.265538  \n",
       "6743               0.183644  \n",
       "6745               0.268257  \n",
       "6747               0.088369  \n",
       "6749               0.420031  \n",
       "6825               0.033530  \n",
       "6887               0.207035  \n",
       "6888               0.347401  \n",
       "6892               0.316214  \n",
       "6907               0.122110  \n",
       "6950               0.218101  \n",
       "6952               0.108850  \n",
       "6954               0.094845  \n",
       "6955               0.299581  \n",
       "7230               0.080198  \n",
       "7396               0.359846  \n",
       "7425               0.221618  \n",
       "7426               0.290943  \n",
       "7435               0.171164  \n",
       "7444               0.115704  \n",
       "7460               0.134129  \n",
       "7461               0.212094  \n",
       "7466               0.342514  \n",
       "7467               0.151018  \n",
       "7468               0.181247  \n",
       "7476               0.045987  \n",
       "7477               0.057541  \n",
       "7496               0.068492  \n",
       "7498               0.201484  \n",
       "7514               0.203029  \n",
       "7531               0.080063  "
      ]
     },
     "execution_count": 50,
     "metadata": {},
     "output_type": "execute_result"
    }
   ],
   "source": [
    "filtered_df"
   ]
  },
  {
   "cell_type": "code",
   "execution_count": 53,
   "id": "0edb27d4",
   "metadata": {
    "ExecuteTime": {
     "end_time": "2025-06-09T12:48:27.583391Z",
     "start_time": "2025-06-09T12:48:27.553145Z"
    }
   },
   "outputs": [],
   "source": [
    "# 1. 예측 결과 불러오기\n",
    "df = pd.read_csv(\"prediction_kakao_20_gephi.csv\", encoding=\"utf-8-sig\")\n",
    "\n",
    "# 2. 인접 행렬 불러오기\n",
    "adj_all_common = pd.read_csv(\"adj_all_common.csv\", index_col=0)\n",
    "\n",
    "# 3. Source-Target 실제 존재 여부 확인\n",
    "def lookup_adj(row):\n",
    "    src, tgt = row['Source'], row['Target']\n",
    "    try:\n",
    "        return adj_all_common.loc[src, tgt]\n",
    "    except KeyError:\n",
    "        return 0  # 인접행렬에 없으면 0으로 처리\n",
    "\n",
    "df['observed_weight'] = df.apply(lookup_adj, axis=1)"
   ]
  },
  {
   "cell_type": "code",
   "execution_count": 55,
   "id": "5c5b4140",
   "metadata": {
    "ExecuteTime": {
     "end_time": "2025-06-09T12:48:57.056261Z",
     "start_time": "2025-06-09T12:48:57.050214Z"
    }
   },
   "outputs": [],
   "source": [
    "# 평균 기준\n",
    "target_score_mean = df.groupby('Target')['observed_weight'].mean().rename(\"y_observed_mean\")\n",
    "\n",
    "# 중앙값 기준\n",
    "target_score_median = df.groupby('Target')['observed_weight'].median().rename(\"y_observed_median\")"
   ]
  },
  {
   "cell_type": "code",
   "execution_count": 56,
   "id": "9dd3e6f7",
   "metadata": {
    "ExecuteTime": {
     "end_time": "2025-06-09T12:49:02.568382Z",
     "start_time": "2025-06-09T12:49:02.562538Z"
    }
   },
   "outputs": [],
   "source": [
    "# mean 기준 병합\n",
    "filtered_df = filtered_df.merge(target_score_mean, left_on='maingroup', right_index=True, how='left')\n",
    "\n",
    "# 필요하면 median도 추가 병합\n",
    "filtered_df = filtered_df.merge(target_score_median, left_on='maingroup', right_index=True, how='left')"
   ]
  },
  {
   "cell_type": "code",
   "execution_count": 63,
   "id": "0e8e788b",
   "metadata": {
    "ExecuteTime": {
     "end_time": "2025-06-09T12:54:40.856577Z",
     "start_time": "2025-06-09T12:54:40.850971Z"
    }
   },
   "outputs": [],
   "source": [
    "filtered_df.to_csv('2d_scatterplot_kakao.csv', encoding='utf-8-sig')"
   ]
  },
  {
   "cell_type": "code",
   "execution_count": 62,
   "id": "ebd3c141",
   "metadata": {
    "ExecuteTime": {
     "end_time": "2025-06-09T12:53:52.798658Z",
     "start_time": "2025-06-09T12:53:52.586188Z"
    }
   },
   "outputs": [
    {
     "data": {
      "image/png": "[encoded data removed]",
      "text/plain": [
       "<Figure size 1200x800 with 1 Axes>"
      ]
     },
     "metadata": {},
     "output_type": "display_data"
    }
   ],
   "source": [
    "# filtered_df는 이전 단계에서 이미 만들어졌다고 가정하고 X, Y 정의\n",
    "x = filtered_df['similarity_with_kakao']\n",
    "y = filtered_df['y_observed_median']\n",
    "y = filtered_df['y_observed_mean']\n",
    "labels = filtered_df['maingroup']\n",
    "\n",
    "# 평균 기준선\n",
    "x_avg = x.mean()\n",
    "y_avg = y.mean()\n",
    "\n",
    "# 시각화\n",
    "plt.figure(figsize=(12, 8))\n",
    "plt.scatter(x, y, alpha=0.7)\n",
    "\n",
    "# 기준선 표시 (평균)\n",
    "plt.axvline(x=x_avg, color='red', linestyle='--', label=f'X Mean = {x_avg:.3f}')\n",
    "plt.axhline(y=y_avg, color='green', linestyle='--', label=f'Y Mean = {y_avg:.1f}')\n",
    "\n",
    "# 모든 노드에 라벨 부착\n",
    "for i in range(len(filtered_df)):\n",
    "    plt.text(x.iloc[i], y.iloc[i], labels.iloc[i], fontsize=8)\n",
    "\n",
    "plt.xlabel('Similarity with Kakao (SBERT)')\n",
    "plt.ylabel('Observed Link Strength (Median)')\n",
    "plt.title('IPC Candidates (Labeled by maingroup)')\n",
    "plt.legend()\n",
    "plt.grid(False)\n",
    "plt.tight_layout()\n",
    "plt.show()"
   ]
  },
  {
   "cell_type": "code",
   "execution_count": null,
   "id": "153a7689",
   "metadata": {},
   "outputs": [],
   "source": []
  }
 ],
 "metadata": {
  "hide_input": false,
  "kernelspec": {
   "display_name": "Python 3 (ipykernel)",
   "language": "python",
   "name": "python3"
  },
  "language_info": {
   "codemirror_mode": {
    "name": "ipython",
    "version": 3
   },
   "file_extension": ".py",
   "mimetype": "text/x-python",
   "name": "python",
   "nbconvert_exporter": "python",
   "pygments_lexer": "ipython3",
   "version": "3.11.5"
  },
  "toc": {
   "base_numbering": 1,
   "nav_menu": {},
   "number_sections": true,
   "sideBar": true,
   "skip_h1_title": true,
   "title_cell": "Table of Contents",
   "title_sidebar": "Contents",
   "toc_cell": false,
   "toc_position": {},
   "toc_section_display": true,
   "toc_window_display": false
  }
 },
 "nbformat": 4,
 "nbformat_minor": 5
}
